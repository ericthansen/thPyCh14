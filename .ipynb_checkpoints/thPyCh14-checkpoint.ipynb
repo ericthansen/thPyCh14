{
 "cells": [
  {
   "cell_type": "markdown",
   "metadata": {},
   "source": [
    "## Chapter 14 - Files\n",
    "An outline notebook for class, to accompany https://greenteapress.com/thinkpython2/html/thinkpython2015.html  \n",
    "  \n",
    "So far, we have designed algorithms to produce answers and output but have not yet dealt with how to store that output in files/databases/etc. - we will now learn how to do these processes in Python.  \n"
   ]
  },
  {
   "cell_type": "markdown",
   "metadata": {},
   "source": [
    "14.1 Persistence  \n",
    "\n",
    "Programs we have written so far have not retained their output past the point we finish running Jupyter notebook.  That is, the output data aren't persistent.  \n",
    "\n",
    "Some programs that do produce persistent data are operating systems (OS).  In fact, the reason your jupyter notebook output can persist despite you powering down your computer is thanks to the operating system.  \n",
    "\n",
    "But what if we don't want to leave it to the OS?  \n",
    "One simple way is to read and write text files.  (An alternative is a database file; we will see this at the end of the section)"
   ]
  },
  {
   "cell_type": "markdown",
   "metadata": {},
   "source": [
    "14.2 Reading/writing\n",
    "A text file is a sequence of characters (chunks of 0/1's, representing individual text characters), stored on a permanent medium like a hard drive (or punch card if you're old school...or a stone tablet if you're -really- old school).\n",
    "\n",
    "We have done a little with opening/reading a file in chapter 9.  \n",
    "\n",
    "To write a file, you have to open it with mode 'w' as a second parameter:\n"
   ]
  },
  {
   "cell_type": "code",
   "execution_count": 1,
   "metadata": {},
   "outputs": [
    {
     "data": {
      "text/plain": [
       "21"
      ]
     },
     "execution_count": 1,
     "metadata": {},
     "output_type": "execute_result"
    }
   ],
   "source": [
    "fout = open('output.txt','w')\n",
    "#Careful - if the file already exists, opening\n",
    "#it in write mode clears out the existing content.\n",
    "#if it doesn't already exist, it creates\n",
    "# a new file.\n",
    "\n",
    "line1 = \"Hello world...again.\\n\"\n",
    "fout.write(line1)\n",
    "#the return value is the number of characters\n",
    "#that were written"
   ]
  },
  {
   "cell_type": "code",
   "execution_count": 2,
   "metadata": {},
   "outputs": [
    {
     "data": {
      "text/plain": [
       "24"
      ]
     },
     "execution_count": 2,
     "metadata": {},
     "output_type": "execute_result"
    }
   ],
   "source": [
    "#The file object keeps track of where it had\n",
    "#been writing, so if you call write again,\n",
    "#it adds to the end of the file \n",
    "line2 = 'and again, and again...\\n'\n",
    "fout.write(line2)"
   ]
  },
  {
   "cell_type": "code",
   "execution_count": 3,
   "metadata": {},
   "outputs": [],
   "source": [
    "#when you're done writing, you \n",
    "#should close the file - if you don't do it\n",
    "#manually, it will become closed when your \n",
    "#program ends\n",
    "\n",
    "fout.close()"
   ]
  },
  {
   "cell_type": "markdown",
   "metadata": {},
   "source": [
    "14.3 Format Operator\n",
    "The argument of write has to be a string, if we want other data types in there, we have to convert them to strings - usually casting using str() will do."
   ]
  },
  {
   "cell_type": "code",
   "execution_count": 4,
   "metadata": {},
   "outputs": [
    {
     "data": {
      "text/plain": [
       "2"
      ]
     },
     "execution_count": 4,
     "metadata": {},
     "output_type": "execute_result"
    }
   ],
   "source": [
    "fout = open('output2.txt','w')\n",
    "x = 42\n",
    "fout.write(str(x))"
   ]
  },
  {
   "cell_type": "code",
   "execution_count": 5,
   "metadata": {},
   "outputs": [
    {
     "data": {
      "text/plain": [
       "'42'"
      ]
     },
     "execution_count": 5,
     "metadata": {},
     "output_type": "execute_result"
    }
   ],
   "source": [
    "#Another preferred, Pythonic way to do this is\n",
    "#with the format operator.\n",
    "##EH NOTE: The % (also the mod operator if\n",
    "##used on integers) was used primarily when \n",
    "##this text was written but now {} is preferred.\n",
    "##I will show both ways.\n",
    "#the first operand is the format string,\n",
    "#which contains one or more format sequences,\n",
    "#which specify how the second operand is\n",
    "#formatted as a string.\n",
    "#e.g., %d means the second operand should be\n",
    "#formatted as a decimal\n",
    "dolphins = 42\n",
    "'%d' % dolphins\n",
    "#the result is the string 42"
   ]
  },
  {
   "cell_type": "code",
   "execution_count": 6,
   "metadata": {},
   "outputs": [
    {
     "data": {
      "text/plain": [
       "'I have seen 42 dolphins'"
      ]
     },
     "execution_count": 6,
     "metadata": {},
     "output_type": "execute_result"
    }
   ],
   "source": [
    "#The format sequence can appear anywhere in \n",
    "#the string.  So you can embed a value in a \n",
    "#sentence.\n",
    "'I have seen %d dolphins' % dolphins"
   ]
  },
  {
   "cell_type": "code",
   "execution_count": 7,
   "metadata": {},
   "outputs": [
    {
     "data": {
      "text/plain": [
       "\"In 3 years I've seen 0.1 dolphins.\""
      ]
     },
     "execution_count": 7,
     "metadata": {},
     "output_type": "execute_result"
    }
   ],
   "source": [
    "#If there's more than one format sequence in \n",
    "#the string, the second arg has to be a tuple\n",
    "\"In %d years I've seen %g %s.\" % (3, 0.1, 'dolphins')"
   ]
  },
  {
   "cell_type": "markdown",
   "metadata": {},
   "source": [
    "For more information on the format operator, see https://docs.python.org/3/library/stdtypes.html#printf-style-string-formatting. A more powerful alternative is the string format method, which you can read about at https://docs.python.org/3/library/stdtypes.html#str.format."
   ]
  },
  {
   "cell_type": "code",
   "execution_count": 8,
   "metadata": {},
   "outputs": [
    {
     "name": "stdout",
     "output_type": "stream",
     "text": [
      "My name is John, I'm 36\n"
     ]
    }
   ],
   "source": [
    "#The new way, with {}s\n",
    "txt1 = \"My name is {fname}, I'm {age}\".format(fname = \"John\", age = 36)\n",
    "txt2 = \"My name is {0}, I'm {1}\".format(\"John\",36)\n",
    "txt3 = \"My name is {}, I'm {}\".format(\"John\",36)\n",
    "print(txt1)"
   ]
  },
  {
   "cell_type": "code",
   "execution_count": 9,
   "metadata": {},
   "outputs": [
    {
     "name": "stdout",
     "output_type": "stream",
     "text": [
      "It costs 7.20 dollars.\n",
      "I saw 25 dolphins.\n"
     ]
    }
   ],
   "source": [
    "#with this way, we can also use formatting commands\n",
    "print(\"It costs {price:.2f} dollars.\".format(price = 7.2))\n",
    "print(\"I saw {dolphins:d} dolphins.\".format(dolphins = 25))"
   ]
  },
  {
   "cell_type": "markdown",
   "metadata": {},
   "source": [
    "# Filenames and Paths  \n",
    "Files are organized into directories aka folders.  \n",
    "Every running program has a \"current directory,\" which is the default directory for most operations.  For example, when you open a file for reading, Python looks for it in the current directory.  \n",
    "The os (operating system) module provies functions for working with files and directories.  "
   ]
  },
  {
   "cell_type": "code",
   "execution_count": 10,
   "metadata": {},
   "outputs": [
    {
     "data": {
      "text/plain": [
       "'/Users/erichansen/Documents/cs2020-2021/thPyCh14'"
      ]
     },
     "execution_count": 10,
     "metadata": {},
     "output_type": "execute_result"
    }
   ],
   "source": [
    "#import the os module\n",
    "import os\n",
    "#get the current working directory\n",
    "cwd = os.getcwd()\n",
    "cwd"
   ]
  },
  {
   "cell_type": "markdown",
   "metadata": {},
   "source": [
    "A simple filename alone is also technically a path, but it's a relative path since it relates to the current directory.  \n",
    "A path that begins with / doesn't depend on the current directory; it's called an absolute path.  To find the absolute path to a file, you can use the os.path.abspath:"
   ]
  },
  {
   "cell_type": "code",
   "execution_count": 11,
   "metadata": {},
   "outputs": [
    {
     "data": {
      "text/plain": [
       "'/Users/erichansen/Documents/cs2020-2021/thPyCh14/output.txt'"
      ]
     },
     "execution_count": 11,
     "metadata": {},
     "output_type": "execute_result"
    }
   ],
   "source": [
    "os.path.abspath('output.txt')"
   ]
  },
  {
   "cell_type": "code",
   "execution_count": 12,
   "metadata": {},
   "outputs": [
    {
     "name": "stdout",
     "output_type": "stream",
     "text": [
      "True\n",
      "False\n",
      "False\n",
      "True\n",
      "True\n"
     ]
    }
   ],
   "source": [
    "#os.path also provides other functions:\n",
    "#whether a file exists in the CWD\n",
    "print(os.path.exists('output.txt'))\n",
    "print(os.path.exists('no_such_file.txt'))\n",
    "\n",
    "#checks whether it's a directory:\n",
    "print(os.path.isdir('output.txt'))\n",
    "print(os.path.isdir(cwd))\n",
    "\n",
    "#checks whether it's a file:\n",
    "print(os.path.isfile('output.txt'))\n"
   ]
  },
  {
   "cell_type": "code",
   "execution_count": 13,
   "metadata": {},
   "outputs": [
    {
     "data": {
      "text/plain": [
       "['examples.db',\n",
       " 'output2.txt',\n",
       " 'wc.py',\n",
       " '__pycache__',\n",
       " 'README.md',\n",
       " '.ipynb_checkpoints',\n",
       " '.git',\n",
       " 'output.txt',\n",
       " 'thPyCh14.ipynb']"
      ]
     },
     "execution_count": 13,
     "metadata": {},
     "output_type": "execute_result"
    }
   ],
   "source": [
    "#return a list of the files and other \n",
    "#directories in the given directory:\n",
    "os.listdir(cwd)"
   ]
  },
  {
   "cell_type": "code",
   "execution_count": 14,
   "metadata": {},
   "outputs": [
    {
     "name": "stdout",
     "output_type": "stream",
     "text": [
      "/Users/erichansen/Documents/cs2020-2021/thPyCh14/examples.db\n",
      "/Users/erichansen/Documents/cs2020-2021/thPyCh14/output2.txt\n",
      "/Users/erichansen/Documents/cs2020-2021/thPyCh14/wc.py\n",
      "/Users/erichansen/Documents/cs2020-2021/thPyCh14/__pycache__/wc.cpython-38.pyc\n",
      "/Users/erichansen/Documents/cs2020-2021/thPyCh14/README.md\n",
      "/Users/erichansen/Documents/cs2020-2021/thPyCh14/.ipynb_checkpoints/thPyCh14-checkpoint.ipynb\n",
      "/Users/erichansen/Documents/cs2020-2021/thPyCh14/.git/config\n",
      "/Users/erichansen/Documents/cs2020-2021/thPyCh14/.git/objects/57/4c9bdcc84c8430b3b95c9b1dc38f0b40b1b23e\n",
      "/Users/erichansen/Documents/cs2020-2021/thPyCh14/.git/objects/3d/176908357431033366d8f0715bb3df306b1da4\n",
      "/Users/erichansen/Documents/cs2020-2021/thPyCh14/.git/objects/fc/7ca77208de801eb2a1ff1189fab028ed2bb67c\n",
      "/Users/erichansen/Documents/cs2020-2021/thPyCh14/.git/HEAD\n",
      "/Users/erichansen/Documents/cs2020-2021/thPyCh14/.git/info/exclude\n",
      "/Users/erichansen/Documents/cs2020-2021/thPyCh14/.git/logs/HEAD\n",
      "/Users/erichansen/Documents/cs2020-2021/thPyCh14/.git/logs/refs/heads/main\n",
      "/Users/erichansen/Documents/cs2020-2021/thPyCh14/.git/logs/refs/remotes/origin/HEAD\n",
      "/Users/erichansen/Documents/cs2020-2021/thPyCh14/.git/description\n",
      "/Users/erichansen/Documents/cs2020-2021/thPyCh14/.git/hooks/commit-msg.sample\n",
      "/Users/erichansen/Documents/cs2020-2021/thPyCh14/.git/hooks/pre-rebase.sample\n",
      "/Users/erichansen/Documents/cs2020-2021/thPyCh14/.git/hooks/pre-commit.sample\n",
      "/Users/erichansen/Documents/cs2020-2021/thPyCh14/.git/hooks/applypatch-msg.sample\n",
      "/Users/erichansen/Documents/cs2020-2021/thPyCh14/.git/hooks/fsmonitor-watchman.sample\n",
      "/Users/erichansen/Documents/cs2020-2021/thPyCh14/.git/hooks/pre-receive.sample\n",
      "/Users/erichansen/Documents/cs2020-2021/thPyCh14/.git/hooks/prepare-commit-msg.sample\n",
      "/Users/erichansen/Documents/cs2020-2021/thPyCh14/.git/hooks/post-update.sample\n",
      "/Users/erichansen/Documents/cs2020-2021/thPyCh14/.git/hooks/pre-applypatch.sample\n",
      "/Users/erichansen/Documents/cs2020-2021/thPyCh14/.git/hooks/pre-push.sample\n",
      "/Users/erichansen/Documents/cs2020-2021/thPyCh14/.git/hooks/update.sample\n",
      "/Users/erichansen/Documents/cs2020-2021/thPyCh14/.git/refs/heads/main\n",
      "/Users/erichansen/Documents/cs2020-2021/thPyCh14/.git/refs/remotes/origin/HEAD\n",
      "/Users/erichansen/Documents/cs2020-2021/thPyCh14/.git/index\n",
      "/Users/erichansen/Documents/cs2020-2021/thPyCh14/.git/packed-refs\n",
      "/Users/erichansen/Documents/cs2020-2021/thPyCh14/output.txt\n",
      "/Users/erichansen/Documents/cs2020-2021/thPyCh14/thPyCh14.ipynb\n"
     ]
    }
   ],
   "source": [
    "#a neat little recursive function that \n",
    "#'walks' through a directory, prints all the\n",
    "#files, then recursively walks through\n",
    "#all subdirectories:\n",
    "def walk(dirname):\n",
    "    for name in os.listdir(dirname):\n",
    "        path = os.path.join(dirname,name)\n",
    "        \n",
    "        if os.path.isfile(path):\n",
    "            print(path)\n",
    "        else:\n",
    "            walk(path)\n",
    "walk(cwd)\n",
    "#careful, because git creates some hidden\n",
    "#folders, this may produce some long output."
   ]
  },
  {
   "cell_type": "markdown",
   "metadata": {},
   "source": [
    "Exceptions  \n",
    "Lots of things can go wrong when you try to read/write files.  If you try to open a file that isn't there, you get a FileNotFoundError:"
   ]
  },
  {
   "cell_type": "code",
   "execution_count": 15,
   "metadata": {},
   "outputs": [
    {
     "ename": "FileNotFoundError",
     "evalue": "[Errno 2] No such file or directory: 'no such file'",
     "output_type": "error",
     "traceback": [
      "\u001b[0;31m---------------------------------------------------------------------------\u001b[0m",
      "\u001b[0;31mFileNotFoundError\u001b[0m                         Traceback (most recent call last)",
      "\u001b[0;32m<ipython-input-15-eefbad28a4fc>\u001b[0m in \u001b[0;36m<module>\u001b[0;34m\u001b[0m\n\u001b[0;32m----> 1\u001b[0;31m \u001b[0mfin\u001b[0m \u001b[0;34m=\u001b[0m \u001b[0mopen\u001b[0m\u001b[0;34m(\u001b[0m\u001b[0;34m'no such file'\u001b[0m\u001b[0;34m)\u001b[0m\u001b[0;34m\u001b[0m\u001b[0;34m\u001b[0m\u001b[0m\n\u001b[0m",
      "\u001b[0;31mFileNotFoundError\u001b[0m: [Errno 2] No such file or directory: 'no such file'"
     ]
    }
   ],
   "source": [
    "fin = open('no such file')"
   ]
  },
  {
   "cell_type": "code",
   "execution_count": 16,
   "metadata": {},
   "outputs": [
    {
     "name": "stdout",
     "output_type": "stream",
     "text": [
      "something went wrong\n"
     ]
    }
   ],
   "source": [
    "#if you don't have permission to access a \n",
    "#file, you get a PermissionError. \n",
    "\n",
    "#if you try to open a directory for reading,\n",
    "#you get IsADirectoryError\n",
    "\n",
    "#to avoid these, you could use functions\n",
    "#like os.path.exists and os.path.isfile\n",
    "#incessantly...but that would take lots of time\n",
    "#and code.\n",
    "\n",
    "#So, Python takes a different approach,\n",
    "#just Try it, and then deal with problems if\n",
    "#they happen.\n",
    "#it's much like an if..else block.\n",
    "\n",
    "try:\n",
    "    #this is all the things you want to try\n",
    "    fin = open('no such file')\n",
    "except:\n",
    "    #this is what you should do if the\n",
    "    #try code produces errors\n",
    "    #this is called 'catching' an exception\n",
    "    print('something went wrong')"
   ]
  },
  {
   "cell_type": "markdown",
   "metadata": {},
   "source": [
    "This is a very Pythonic philosophy to coding.  It's referred to as \"Easier to ask forgiveness than permission\" or EAFP (or AFNP for 'ask forgiveness not permission').\n",
    "\n",
    "The alternative to this would be \"Look before you leap,\" which would be the aforementioned approach of testing each possibility with .exists and .isfile explained above.  Some programming languages prefer this philosophy!"
   ]
  },
  {
   "cell_type": "markdown",
   "metadata": {},
   "source": [
    "# Databases  \n",
    "A database is a file that stores organized data.  In many ways they're similar to dictionaries because they map from keys to values.\n",
    "\n",
    "The biggest difference is that a database is typically stored on permanent storage.\n",
    "\n",
    "The module dbm provides an interface for creating/updating database files."
   ]
  },
  {
   "cell_type": "code",
   "execution_count": 17,
   "metadata": {},
   "outputs": [
    {
     "data": {
      "text/plain": [
       "b'Photo of an sunrise'"
      ]
     },
     "execution_count": 17,
     "metadata": {},
     "output_type": "execute_result"
    }
   ],
   "source": [
    "import dbm\n",
    "db = dbm.open('examples','c')\n",
    "#'examples' is the name of the database,\n",
    "#'c' means it should be created if it doesn't\n",
    "#already exist.\n",
    "\n",
    "#When you create a new item, dbm updates the\n",
    "#database file.\n",
    "db['sunrise.png'] = 'Photo of an sunrise'\n",
    "#When you access an item, dbm reads it.\n",
    "db['sunrise.png']\n",
    "#note the result is a \"bytes\" object which is\n",
    "#why it begins with b. This is a lot like a string."
   ]
  },
  {
   "cell_type": "code",
   "execution_count": 18,
   "metadata": {},
   "outputs": [
    {
     "name": "stdout",
     "output_type": "stream",
     "text": [
      "b'sunrise.png' b'Photo of an sunrise'\n"
     ]
    }
   ],
   "source": [
    "#.values and .items don't work for db objects,\n",
    "#but iteration does:\n",
    "for key in db.keys():\n",
    "    print(key, db[key])"
   ]
  },
  {
   "cell_type": "code",
   "execution_count": 19,
   "metadata": {},
   "outputs": [],
   "source": [
    "#it's good practice to close a database when done\n",
    "db.close()"
   ]
  },
  {
   "cell_type": "markdown",
   "metadata": {},
   "source": [
    "# Pickling\n",
    "dbm's are limited because the keys and values have to be strings or bytes.  If you use any other type, it causes an error.\n",
    "The pickle module can help.  It translates nearly any datatype into a string suitable for storage in a database, and translates strings back into objects.\n",
    "\n",
    "pickle.dumps (for dump string) takes an object as a parameter and returns a string representation."
   ]
  },
  {
   "cell_type": "code",
   "execution_count": 20,
   "metadata": {},
   "outputs": [
    {
     "data": {
      "text/plain": [
       "b'\\x80\\x04\\x95\\x0b\\x00\\x00\\x00\\x00\\x00\\x00\\x00]\\x94(K\\x01K\\x02K\\x03e.'"
      ]
     },
     "execution_count": 20,
     "metadata": {},
     "output_type": "execute_result"
    }
   ],
   "source": [
    "import pickle\n",
    "t = [1,2,3] #remember, this is a list\n",
    "pickle.dumps(t)\n",
    "#this creates a format that isn't very\n",
    "#human readable, but pickle can read it\n",
    "#using pickle.loads() ('load string')"
   ]
  },
  {
   "cell_type": "code",
   "execution_count": 21,
   "metadata": {},
   "outputs": [
    {
     "data": {
      "text/plain": [
       "[1, 2, 3]"
      ]
     },
     "execution_count": 21,
     "metadata": {},
     "output_type": "execute_result"
    }
   ],
   "source": [
    "t1 = [1,2,3] #our starting list\n",
    "ps = pickle.dumps(t1) #turn the list into a pickle string\n",
    "t2 = pickle.loads(ps)# turn the pickle string back to a list\n",
    "t2 #investigate the result\n"
   ]
  },
  {
   "cell_type": "code",
   "execution_count": 22,
   "metadata": {},
   "outputs": [
    {
     "name": "stdout",
     "output_type": "stream",
     "text": [
      "True\n",
      "False\n"
     ]
    }
   ],
   "source": [
    "#note that while they have the same value,\n",
    "#they aren't the same object\n",
    "print(t1 == t2)\n",
    "print(t1 is t2)"
   ]
  },
  {
   "cell_type": "markdown",
   "metadata": {},
   "source": [
    "# Pipes!\n",
    "Most operating systems have a command-line interface (e.g. terminal, command prompt) aka a shell.  \n",
    "We have used this fairly regularly in this course.  \n",
    "Any program that you can launch from the shell can also be launched from Python using a Pipe Object, which represents a running program.  The pipe \"connects\" python with the other program.\n",
    "\n",
    "In Python, you can use os.popen (deprecated, may soon not be supported) or os.subprocess (a little more awkward, but our only option in modern Python versions).\n"
   ]
  },
  {
   "cell_type": "code",
   "execution_count": 23,
   "metadata": {},
   "outputs": [
    {
     "data": {
      "text/plain": [
       "'total 104\\n-rw-r--r--  1 erichansen  staff     47 Mar  9 14:02 README.md\\ndrwxr-xr-x  3 erichansen  staff     96 Mar 23 11:52 __pycache__\\n-rw-r--r--  1 erichansen  staff  16384 Mar 23 11:53 examples.db\\n-rw-r--r--  1 erichansen  staff     45 Mar 23 11:53 output.txt\\n-rw-r--r--  1 erichansen  staff      0 Mar 23 11:53 output2.txt\\n-rw-r--r--  1 erichansen  staff  23755 Mar 23 11:52 thPyCh14.ipynb\\n-rw-r--r--  1 erichansen  staff    134 Mar 23 11:53 wc.py\\n'"
      ]
     },
     "execution_count": 23,
     "metadata": {},
     "output_type": "execute_result"
    }
   ],
   "source": [
    "cmd = 'ls -l'\n",
    "fp = os.popen(cmd) #this behaves like an open file\n",
    "#you can read line by line with readline\n",
    "#or the whole thing at once with read\n",
    "res = fp.read()\n",
    "res"
   ]
  },
  {
   "cell_type": "code",
   "execution_count": 24,
   "metadata": {},
   "outputs": [
    {
     "name": "stdout",
     "output_type": "stream",
     "text": [
      "None\n"
     ]
    }
   ],
   "source": [
    "#it's also good practice to close your pipes\n",
    "stat = fp.close()\n",
    "print(stat)\n",
    "#None means it closed normally with no errors"
   ]
  },
  {
   "cell_type": "code",
   "execution_count": 25,
   "metadata": {},
   "outputs": [
    {
     "name": "stdout",
     "output_type": "stream",
     "text": [
      "Have 78 bytes in output\n",
      "b'README.md\\n__pycache__\\nexamples.db\\noutput.txt\\noutput2.txt\\nthPyCh14.ipynb\\nwc.py\\n'\n"
     ]
    }
   ],
   "source": [
    "#example using subprocess instead\n",
    "import subprocess\n",
    "command = [\"ls\", \"-l\"]\n",
    "fp = subprocess.call(command)\n",
    "output = subprocess.check_output(['ls', '-1'])\n",
    "print ('Have %d bytes in output' % len(output))\n",
    "print (output)"
   ]
  },
  {
   "cell_type": "markdown",
   "metadata": {},
   "source": [
    "One useful Unix pipe usage is for using md5sum for a checksum.\n",
    "\n",
    "You can read about MD5 at http://en.wikipedia.org/wiki/Md5.\n"
   ]
  },
  {
   "cell_type": "code",
   "execution_count": 26,
   "metadata": {},
   "outputs": [
    {
     "name": "stdout",
     "output_type": "stream",
     "text": [
      "res: \n",
      "stat: 32512\n"
     ]
    }
   ],
   "source": [
    "#note, this may not run on your machine \n",
    "#if you don't have md5sum installed\n",
    "filename = 'output.txt'\n",
    "cmd = 'md5sum ' + filename\n",
    "fp = os.popen(cmd)\n",
    "res = fp.read()\n",
    "stat = fp.close()\n",
    "print('res:',res)\n",
    "\n",
    "print('stat:',stat)"
   ]
  },
  {
   "cell_type": "markdown",
   "metadata": {},
   "source": [
    "# Writing Modules  \n",
    "Any file that contains python code (like a .py file) can be imported as a module.\n",
    "For example, the wc.py file contains the code:\n",
    "\n",
    "def linecount(filename):\n",
    "    count = 0\n",
    "    for line in open(filename):\n",
    "        count += 1\n",
    "    return count\n",
    "\n",
    "print(linecount('wc.py'))\n",
    "\n",
    "In the past we've just imported it as\n",
    "import wc.  We can now run functions from it."
   ]
  },
  {
   "cell_type": "code",
   "execution_count": 27,
   "metadata": {},
   "outputs": [
    {
     "name": "stdout",
     "output_type": "stream",
     "text": [
      "7\n"
     ]
    },
    {
     "data": {
      "text/plain": [
       "7"
      ]
     },
     "execution_count": 27,
     "metadata": {},
     "output_type": "execute_result"
    }
   ],
   "source": [
    "import wc\n",
    "wc.linecount('wc.py')"
   ]
  },
  {
   "cell_type": "markdown",
   "metadata": {},
   "source": [
    "The only problem with this example is that when you import the module it runs the test code at the bottom. Normally when you import a module, it defines new functions but it doesn’t run them.\n",
    "\n",
    "Programs that will be imported as modules often use the following idiom:\n",
    "\n",
    "if __name__ == '__main__':\n",
    "    print(linecount('wc.py'))\n",
    "__name__ is a built-in variable that is set when the program starts. If the program is running as a script, __name__ has the value '__main__'; in that case, the test code runs. Otherwise, if the module is being imported, the test code is skipped.\n",
    "As an exercise, type this example into a file named wc.py and run it as a script. Then run the Python interpreter and import wc. What is the value of __name__ when the module is being imported?\n",
    "\n",
    "Warning: If you import a module that has already been imported, Python does nothing. It does not re-read the file, even if it has changed.\n",
    "\n",
    "If you want to reload a module, you can use the built-in function reload, but it can be tricky, so the safest thing to do is restart the interpreter and then import the module again."
   ]
  },
  {
   "cell_type": "markdown",
   "metadata": {},
   "source": [
    "Exercise 1  \n",
    "Write a function called sed that takes as arguments a pattern string, a replacement string, and two filenames; it should read the first file and write the contents into the second file (creating it if necessary). If the pattern string appears anywhere in the file, it should be replaced with the replacement string.\n",
    "If an error occurs while opening, reading, writing or closing files, your program should catch the exception, print an error message, and exit. Solution: http://thinkpython2.com/code/sed.py."
   ]
  },
  {
   "cell_type": "code",
   "execution_count": null,
   "metadata": {},
   "outputs": [],
   "source": []
  },
  {
   "cell_type": "markdown",
   "metadata": {},
   "source": [
    "Exercise 2  \n",
    "If you download my solution to Exercise 2 from http://thinkpython2.com/code/anagram_sets.py, you’ll see that it creates a dictionary that maps from a sorted string of letters to the list of words that can be spelled with those letters. For example, 'opst' maps to the list ['opts', 'post', 'pots', 'spot', 'stop', 'tops'].\n",
    "Write a module that imports anagram_sets and provides two new functions: store_anagrams should store the anagram dictionary in a “shelf”; read_anagrams should look up a word and return a list of its anagrams. Solution: http://thinkpython2.com/code/anagram_db.py."
   ]
  },
  {
   "cell_type": "code",
   "execution_count": null,
   "metadata": {},
   "outputs": [],
   "source": []
  },
  {
   "cell_type": "markdown",
   "metadata": {},
   "source": [
    "Exercise 3  \n",
    "In a large collection of MP3 files, there may be more than one copy of the same song, stored in different directories or with different file names. The goal of this exercise is to search for duplicates.\n",
    "Write a program that searches a directory and all of its subdirectories, recursively, and returns a list of complete paths for all files with a given suffix (like .mp3). Hint: os.path provides several useful functions for manipulating file and path names.\n",
    "To recognize duplicates, you can use md5sum to compute a “checksum” for each files. If two files have the same checksum, they probably have the same contents.\n",
    "To double-check, you can use the Unix command diff.\n",
    "Solution: http://thinkpython2.com/code/find_duplicates.py."
   ]
  },
  {
   "cell_type": "code",
   "execution_count": null,
   "metadata": {},
   "outputs": [],
   "source": []
  }
 ],
 "metadata": {
  "kernelspec": {
   "display_name": "Python 3",
   "language": "python",
   "name": "python3"
  },
  "language_info": {
   "codemirror_mode": {
    "name": "ipython",
    "version": 3
   },
   "file_extension": ".py",
   "mimetype": "text/x-python",
   "name": "python",
   "nbconvert_exporter": "python",
   "pygments_lexer": "ipython3",
   "version": "3.8.3"
  }
 },
 "nbformat": 4,
 "nbformat_minor": 4
}
